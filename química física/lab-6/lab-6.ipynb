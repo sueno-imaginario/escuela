{
 "cells": [
  {
   "cell_type": "markdown",
   "id": "f7cd292c-0c09-49b3-a0db-e4fd2e4fff87",
   "metadata": {},
   "source": [
    "# Лабораторная работа 6"
   ]
  },
  {
   "cell_type": "code",
   "execution_count": 6,
   "id": "b5695bcf-d00d-41e5-9f8d-6ab171c01123",
   "metadata": {},
   "outputs": [
    {
     "name": "stdout",
     "output_type": "stream",
     "text": [
      "ΔG = -30475.43280695984 Дж/моль\n",
      "K = 187.9533337989702\n"
     ]
    }
   ],
   "source": [
    "import numpy as np\n",
    "\n",
    "# Коэффициенты NASA (низкие T)\n",
    "a_C2H4 = [4.47039, 0.0294337, -0.0000932121, 1.28208e-07, -5.3026e-11, 50991.3, 2.43131]\n",
    "a_C6H6 = [2.92230, 0.0367974, 0.00105094, -1.58169e-06, 6.61473e-10, 132289.0, 4.65881]\n",
    "a_H2   = [2.67992, 0.0317540, -0.0000724769, 8.35104e-08, -3.70898e-11, -917.935, 0.683010]\n",
    "\n",
    "R = 8.3145  # Дж/моль·К\n",
    "T = 700     # К\n",
    "\n",
    "def H(a, T):\n",
    "    return (\n",
    "        a[0] +\n",
    "        a[1] * T / 2 +\n",
    "        a[2] * T**2 / 3 +\n",
    "        a[3] * T**3 / 4 +\n",
    "        a[4] * T**4 / 5 +\n",
    "        a[5] / T\n",
    "    ) * R * T\n",
    "\n",
    "def S(a, T):\n",
    "    return (\n",
    "        a[0] * np.log(T) +\n",
    "        a[1] * T +\n",
    "        a[2] * T**2 / 2 +\n",
    "        a[3] * T**3 / 3 +\n",
    "        a[4] * T**4 / 4 +\n",
    "        a[6]\n",
    "    ) * R\n",
    "\n",
    "# ΔG = ΔH - TΔS\n",
    "delta_G = (\n",
    "    H(a_C6H6, T) + (3 * H(a_H2, T)) - H(a_C2H4, T)\n",
    ") - T * (\n",
    "    S(a_C6H6, T) +  (3 * S(a_H2, T)) - S(a_C2H4, T)\n",
    ")\n",
    "\n",
    "# Расчёт константы равновесия C (в данном контексте, не путать с исходной задачей)\n",
    "K = np.exp(-delta_G / (R * T))\n",
    "\n",
    "\n",
    "\n",
    "\n",
    "# Печатаем\n",
    "print(\"ΔG =\", delta_G,   \"Дж/моль\")\n",
    "print(\"K =\", K)\n",
    "# print(\"Корни уравнения:\", sol)"
   ]
  }
 ],
 "metadata": {
  "kernelspec": {
   "display_name": "Python 3 (ipykernel)",
   "language": "python",
   "name": "python3"
  },
  "language_info": {
   "codemirror_mode": {
    "name": "ipython",
    "version": 3
   },
   "file_extension": ".py",
   "mimetype": "text/x-python",
   "name": "python",
   "nbconvert_exporter": "python",
   "pygments_lexer": "ipython3",
   "version": "3.13.3"
  }
 },
 "nbformat": 4,
 "nbformat_minor": 5
}
